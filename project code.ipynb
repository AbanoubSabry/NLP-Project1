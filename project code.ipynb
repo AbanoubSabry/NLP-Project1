{
  "nbformat": 4,
  "nbformat_minor": 0,
  "metadata": {
    "colab": {
      "name": "Copy of Untitled1.ipynb",
      "provenance": [],
      "authorship_tag": "ABX9TyOZ/K1hBP0SnlxZm5lK/bxr",
      "include_colab_link": true
    },
    "kernelspec": {
      "name": "python3",
      "display_name": "Python 3"
    },
    "language_info": {
      "name": "python"
    }
  },
  "cells": [
    {
      "cell_type": "markdown",
      "metadata": {
        "id": "view-in-github",
        "colab_type": "text"
      },
      "source": [
        "<a href=\"https://colab.research.google.com/github/AbanoubSabry/NLP-Project1/blob/main/project%20code.ipynb\" target=\"_parent\"><img src=\"https://colab.research.google.com/assets/colab-badge.svg\" alt=\"Open In Colab\"/></a>"
      ]
    },
    {
      "cell_type": "code",
      "metadata": {
        "id": "boXAgYDU6NKw"
      },
      "source": [
        "import re\n",
        "keys=[]\n",
        "Words={}\n",
        "ListWords=[]\n",
        "def ReadFromFile(filePath):\n",
        "    try:\n",
        "        return open(filePath,\"r\")\n",
        "    except IOError:\n",
        "        print(\"File not found or path is incorrect\")\n"
      ],
      "execution_count": null,
      "outputs": []
    },
    {
      "cell_type": "code",
      "metadata": {
        "id": "KMs-uMen7vdx"
      },
      "source": [
        "def ReadStrig():\n",
        "   st=input(\"\")\n",
        "   return st.split()\n",
        "def AddWordToDic(myword):\n",
        "  if(myword[0:2] not in keys):\n",
        "     keys.append(myword[0:2])\n",
        "     Words[myword[0:2]]=[]\n",
        "  try:\n",
        "    Words[myword[0:2]].append(myword)\n",
        "    \n",
        "  except:\n",
        "    print(\"An exception occurred\")\n"
      ],
      "execution_count": null,
      "outputs": []
    },
    {
      "cell_type": "code",
      "metadata": {
        "id": "KqsoIaq49Jwz"
      },
      "source": [
        "def Load_data_To_Dic():\n",
        "  print(\"جار تحميل\")\n",
        "  for line in(ReadFromFile(\"QALB-Train2014.sent\").read().split(\"\\n\")):\n",
        "    if(line!=''):\n",
        "      try:\n",
        "        for word in(line.split('.ar ')[1].split(\" \")):\n",
        "          myword=re.sub(r'[^ء-ي]','',word).strip()\n",
        "          if(len(myword)<=1 or myword in ListWords or myword in[\".\",'',\",\",\" \",' ',\"(\",\")\",\" .\",\"    \",\"  \",\". \",\" -\",\"-\",\"- \",\"؟\",\"؟ \",\" ؟\",\":\"]):\n",
        "            u=0\n",
        "          else:\n",
        "            ListWords.append(myword)\n",
        "            if(len(myword)>=3):\n",
        "              if(myword[0:2] =='ال'):\n",
        "                AddWordToDic(myword[2:])\n",
        "              elif(myword[0:3] =='وال'):\n",
        "                AddWordToDic(myword[3:])\n",
        "              else:\n",
        "                AddWordToDic(myword)\n",
        "\n",
        "            else:\n",
        "              AddWordToDic(myword)\n",
        "      except:\n",
        "        print(\"An exception occurred\")\n",
        "\n",
        "\n"
      ],
      "execution_count": null,
      "outputs": []
    },
    {
      "cell_type": "code",
      "metadata": {
        "id": "Dl8KOK1i9RbG"
      },
      "source": [
        "def SearchingIntoDic(word,flag):\n",
        "  Listofwordsstartwithkey=Words.get(word[0:2])\n",
        "  if(Listofwordsstartwithkey!=None):\n",
        "    if(word in Listofwordsstartwithkey):\n",
        "      print(word,end=' ')\n",
        "    elif(falg==0):\n",
        "      SearchingIntoDic(word[0:2],1)\n",
        "    else:\n",
        "      print(\"____\") \n",
        "  elif (word in ListWords):\n",
        "      print(word,end='')\n"
      ],
      "execution_count": null,
      "outputs": []
    },
    {
      "cell_type": "code",
      "metadata": {
        "id": "RBHgsm819XnN"
      },
      "source": [
        "def CheckForAllWords(mywords):\n",
        "  for wordsstat in (mywords):\n",
        "    SearchingIntoDic(re.sub(r'[^ء-ي]','',wordsstat).strip(),0)\n",
        "\n",
        "   \n",
        "\n",
        "\n"
      ],
      "execution_count": null,
      "outputs": []
    },
    {
      "cell_type": "code",
      "metadata": {
        "colab": {
          "base_uri": "https://localhost:8080/"
        },
        "id": "mm-z5pRBAIrk",
        "outputId": "0b649ddb-19eb-40d2-e7b9-d4ed1a405b92"
      },
      "source": [
        "Load_data_To_Dic()\n"
      ],
      "execution_count": null,
      "outputs": [
        {
          "output_type": "stream",
          "text": [
            "جار تحميل\n",
            "An exception occurred\n",
            "An exception occurred\n",
            "An exception occurred\n",
            "An exception occurred\n",
            "An exception occurred\n",
            "An exception occurred\n",
            "An exception occurred\n",
            "An exception occurred\n",
            "An exception occurred\n",
            "An exception occurred\n"
          ],
          "name": "stdout"
        }
      ]
    },
    {
      "cell_type": "code",
      "metadata": {
        "colab": {
          "base_uri": "https://localhost:8080/"
        },
        "id": "FUuRiuouW6eX",
        "outputId": "03fe8870-c939-4ac3-82d7-9af12e517aa4"
      },
      "source": [
        "\n",
        "print(len(ListWords))"
      ],
      "execution_count": null,
      "outputs": [
        {
          "output_type": "stream",
          "text": [
            "126689\n"
          ],
          "name": "stdout"
        }
      ]
    },
    {
      "cell_type": "code",
      "metadata": {
        "id": "KlWYdrfvRW0w"
      },
      "source": [
        "MyWords=ReadStrig()\n",
        "CheckForAllWords(MyWords)\n"
      ],
      "execution_count": null,
      "outputs": []
    },
    {
      "cell_type": "code",
      "metadata": {
        "id": "oAnXwJAaR9rp"
      },
      "source": [
        ""
      ],
      "execution_count": null,
      "outputs": []
    }
  ]
}